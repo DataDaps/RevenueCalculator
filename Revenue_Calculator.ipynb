{
 "cells": [
  {
   "cell_type": "code",
   "execution_count": 1,
   "metadata": {},
   "outputs": [],
   "source": [
    "import pprint as pp"
   ]
  },
  {
   "cell_type": "code",
   "execution_count": 73,
   "metadata": {},
   "outputs": [],
   "source": [
    "\n",
    "\n",
    "#A price class to differentiate between how much I make per property type\n",
    "\n",
    "class Price:\n",
    "    def __init__(self, condo, house,commercial,):\n",
    "        self.condo = float(condo)\n",
    "        self.house = float(house)\n",
    "        self.commercial=float(commercial)\n",
    "        \n",
    "        \n",
    "\n",
    "# I make money two different ways, one from a photographer i'm cotnracted to  (photo_con) and from my own clients , (Spdvr)\n",
    "photo_con_prices=Price(156.9,169.5,0)\n",
    "spdvr_prices=Price(310.75,423.75,367.25,)\n",
    "\n",
    "\n",
    "def photo_con_revenue():\n",
    "    num_scans_condo=float(input(\"How many Photogrpaher Contractor Condo jobs did you do this month? \"))\n",
    "    num_scans_house=float(input(\"How many Photogrpaher Contractor House jobs did you do this month? \"))\n",
    "    condo_rev= num_scans_condo*photo_con_prices.condo\n",
    "    house_rev= num_scans_house*photo_con_prices.house\n",
    "    photo_con_expenses=(num_scans_condo +num_scans_house)*55\n",
    "    photo_con_profit=(condo_rev+house_rev)-photo_con_expenses\n",
    "    return photo_con_profit, photo_con_expenses\n",
    "\n",
    "def spdvr_revenue():\n",
    "    num_scans_condo=float(input(\"How many Condo jobs did you do this month? \"))\n",
    "    num_scans_house=float(input(\"How many House jobs did you do this month? \") )\n",
    "    num_scans_commercial=float(input(\"How many Commerical  jobs did you do this month? \"))\n",
    "    processing_expense=(num_scans_condo +num_scans_house+ num_scans_commercial)*55\n",
    "    floorplan_expense=float(input(\"How many floorplans did you order this month? \"))*28\n",
    "    matterpak_expense=float(input(\"How many Matterpaks did you order this month? \"))*70\n",
    "    dwg_expense=float(input(\"How many DWG files did you order this month? \"))*100\n",
    "    one_page_website_expense=float(input(\"How many One page websites did you order this month? \"))*35\n",
    "    condo_rev= num_scans_condo*spdvr_prices.condo\n",
    "    house_rev= num_scans_house*spdvr_prices.house\n",
    "    commercial_rev=num_scans_commercial*spdvr_prices.commercial\n",
    "    spdvr_expenses=floorplan_expense+matterpak_expense+dwg_expense+one_page_website_expense\n",
    "    spdvr_profit=(condo_rev+house_rev+commercial_rev)-spdvr_expenses\n",
    "    return spdvr_profit,spdvr_expenses\n",
    "\n",
    "\n",
    "    \n",
    "        \n",
    "\n",
    "\n",
    "\n",
    "def earnings_projection(profit):\n",
    "     \n",
    "    #Calcualte aprox. how many of each type of property , whether it's cotnracting price or my own , I would need to do to achieve a specifice amount/month     \n",
    "    profit=int(input(\"How much revenue do you want to make this month\"))\n",
    "    photo_con_house=profit/photo_con.house\n",
    "    photo_con_condo=profit/photo_con.condo\n",
    "    spdvr_house=profit/spdvr.house\n",
    "    spdvr_condo=profit/spdvr.condo\n",
    "    spdvr_comm=profit/spdvr.commercial\n",
    "    return photo_con_house,photo_con_condo,spdvr_condo,spdvr_house,spdvr_comm\n",
    "    \n",
    "    num_scans=[photo_con_condo,\n",
    "   photo_con_house,\n",
    "    spdvr_house,\n",
    "    spdvr_condo,\n",
    "    spdvr_comm]\n",
    "    \n",
    "    def expenses(num_scans):\n",
    "        len(num_scans)\n",
    "        photo_con_condo_earnings=photo_con_condo-photo_con_revenue[1]\n",
    "        \n",
    "        total_expenses=275\n",
    "    \n",
    "        \n",
    "        return total_expenses\n",
    "        \n",
    "    final_expenses=(expenses(num_scans))\n",
    "    \n",
    "    def to_profit(profit,final_expenses):\n",
    "        return profit-final_expenses\n",
    "       \n",
    "    final_profit=to_profit(profit,final_expenses)\n",
    "\n",
    "          \n",
    "                \n",
    "    pp.pprint(f\"Based on earnings of {profit} this month deducted\"\\\n",
    "              f\"by your projected expenses of {final_expenses}\" \n",
    "              f\"Your profit will be {final_profit}\" \\\n",
    "              f\"You will need to do {photo_con_condo} Photographer Condo scans or \"\\\n",
    "              f\"{photo_con_house} Photographer House scans or \" \\\n",
    "              f\"{spdvr_condo} Spac3d-vr Condo scans or \"\\\n",
    "              f\"{spdvr_house} Spac3d-vr House scans or \" \\\n",
    "              f\"{spdvr_comm} Spac3d-vr Commercial scans\")\n",
    "      \n",
    "\n",
    "    daps_cut=0.60 *final_profit\n",
    "    damis_cut=0.40 *final_profit       \n",
    "    \n",
    "    def daps_profit(profit,daps_cut):\n",
    "        photo_con_earned=0\n",
    "        spdvr_con_earned=0\n",
    "        for scans in num_scans:\n",
    "            if 156.9>=scans<=169.5:\n",
    "                photo_con_fee=25*scans\n",
    "                photo_con_earned+=photo_con_fee\n",
    "            elif 310.75>=scans<=423.75:\n",
    "                spdvr_fee=35*scans\n",
    "                spdvr_con_earned+= spdvr_fee\n",
    "        return photo_con_earned,spdvr_con_earned\n",
    "              \n",
    "    daps_photo_con_profit=daps_profit.photo_con_earned+profit\n",
    "    daps_spdvr_profit=daps_profit.spdvr_con_earned +profit\n",
    "        \n",
    "    return photo_con_earned,spdvr_con_earned , daps_photo_con_profit,daps_spdvr_profit\n",
    "  \n",
    "      \n",
    "            \n",
    "    \n",
    "    pp.pprint(f\"Based on the profit of {profit} this month , Dapo you will make {daps_cut} from your shares,\"\\\n",
    "               f\"and {Rafcon_fee} if you Exclusively do Raffi jobs and {Spdvrcon_fee} if you do your own.\"\\\n",
    "               f\"For a total of either {daps_raffi_profit} from jsut Raffi jobs or {daps_spdvr_profit} from your own.\"\n",
    "               f\"Dami you will make {damis_cut} according to your shares\")       \n",
    "        \n",
    " \n",
    "\n",
    "     \n",
    "  \n",
    "    \n",
    "\n",
    "        \n",
    "      \n",
    "        \n",
    " \n",
    "    \n",
    "\n",
    "   \n",
    "\n",
    "    "
   ]
  },
  {
   "cell_type": "code",
   "execution_count": 16,
   "metadata": {},
   "outputs": [
    {
     "name": "stdin",
     "output_type": "stream",
     "text": [
      "How much revenue do you want to make this month 3500\n"
     ]
    },
    {
     "name": "stdout",
     "output_type": "stream",
     "text": [
      "('Based on earnings of 3500 this month deductedby your projected expenses of '\n",
      " '2089.0479248214915Your profit will be 1410.9520751785085You will need to do '\n",
      " '22.435897435897434 Photographer Condo scans or 20.71005917159763 '\n",
      " 'Photographer House scans or 11.290322580645162 Spac3d-vr Condo scans or '\n",
      " '8.274231678486998 Spac3d-vr House scans or 9.536784741144414 Spac3d-vr '\n",
      " 'Commercial scans')\n"
     ]
    },
    {
     "ename": "AttributeError",
     "evalue": "'function' object has no attribute 'photo_con_earned'",
     "output_type": "error",
     "traceback": [
      "\u001b[1;31m---------------------------------------------------------------------------\u001b[0m",
      "\u001b[1;31mAttributeError\u001b[0m                            Traceback (most recent call last)",
      "\u001b[1;32m<ipython-input-16-05d28e54c3cc>\u001b[0m in \u001b[0;36m<module>\u001b[1;34m\u001b[0m\n\u001b[1;32m----> 1\u001b[1;33m \u001b[0mearningspro\u001b[0m\u001b[1;33m(\u001b[0m\u001b[1;36m4532\u001b[0m\u001b[1;33m)\u001b[0m\u001b[1;33m\u001b[0m\u001b[1;33m\u001b[0m\u001b[0m\n\u001b[0m",
      "\u001b[1;32m<ipython-input-15-403a1e7cc798>\u001b[0m in \u001b[0;36mearningspro\u001b[1;34m(profit)\u001b[0m\n\u001b[0;32m     72\u001b[0m         \u001b[1;32mreturn\u001b[0m \u001b[0mphoto_con_earned\u001b[0m\u001b[1;33m,\u001b[0m\u001b[0mspdvr_con_earned\u001b[0m\u001b[1;33m\u001b[0m\u001b[1;33m\u001b[0m\u001b[0m\n\u001b[0;32m     73\u001b[0m \u001b[1;33m\u001b[0m\u001b[0m\n\u001b[1;32m---> 74\u001b[1;33m     \u001b[0mdaps_photo_con_profit\u001b[0m\u001b[1;33m=\u001b[0m\u001b[0mdaps_profit\u001b[0m\u001b[1;33m.\u001b[0m\u001b[0mphoto_con_earned\u001b[0m\u001b[1;33m+\u001b[0m\u001b[0mprofit\u001b[0m\u001b[1;33m\u001b[0m\u001b[1;33m\u001b[0m\u001b[0m\n\u001b[0m\u001b[0;32m     75\u001b[0m     \u001b[0mdaps_spdvr_profit\u001b[0m\u001b[1;33m=\u001b[0m\u001b[0mdaps_profit\u001b[0m\u001b[1;33m.\u001b[0m\u001b[0mspdvr_con_earned\u001b[0m \u001b[1;33m+\u001b[0m\u001b[0mprofit\u001b[0m\u001b[1;33m\u001b[0m\u001b[1;33m\u001b[0m\u001b[0m\n\u001b[0;32m     76\u001b[0m \u001b[1;33m\u001b[0m\u001b[0m\n",
      "\u001b[1;31mAttributeError\u001b[0m: 'function' object has no attribute 'photo_con_earned'"
     ]
    }
   ],
   "source": [
    "earningspro(4532)"
   ]
  },
  {
   "cell_type": "code",
   "execution_count": 77,
   "metadata": {},
   "outputs": [
    {
     "name": "stdin",
     "output_type": "stream",
     "text": [
      "How many Condo jobs did you do this month?  2\n",
      "How many House jobs did you do this month?  2\n",
      "How many Commerical  jobs did you do this month?  2\n",
      "How many floorplans did you order this month?  1\n",
      "How many Matterpaks did you order this month?  2\n",
      "How many DWG files did you order this month?  1\n",
      "How many One page websites did you order this month?  2\n"
     ]
    }
   ],
   "source": [
    "se=spdvr_revenue()"
   ]
  },
  {
   "cell_type": "code",
   "execution_count": 81,
   "metadata": {},
   "outputs": [
    {
     "data": {
      "text/plain": [
       "1865.5"
      ]
     },
     "execution_count": 81,
     "metadata": {},
     "output_type": "execute_result"
    }
   ],
   "source": [
    "se[0]"
   ]
  },
  {
   "cell_type": "code",
   "execution_count": null,
   "metadata": {},
   "outputs": [],
   "source": []
  }
 ],
 "metadata": {
  "kernelspec": {
   "display_name": "Python 3",
   "language": "python",
   "name": "python3"
  },
  "language_info": {
   "codemirror_mode": {
    "name": "ipython",
    "version": 3
   },
   "file_extension": ".py",
   "mimetype": "text/x-python",
   "name": "python",
   "nbconvert_exporter": "python",
   "pygments_lexer": "ipython3",
   "version": "3.7.4"
  }
 },
 "nbformat": 4,
 "nbformat_minor": 4
}
